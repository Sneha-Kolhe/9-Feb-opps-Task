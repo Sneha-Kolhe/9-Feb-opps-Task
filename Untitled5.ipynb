{
 "cells": [
  {
   "cell_type": "markdown",
   "id": "22aca2cc-4296-4548-af6d-2b1551bd2f27",
   "metadata": {},
   "source": [
    "## Q1, Create a vehicle class with an init method having instance variables as name_of_vehicle, max_speed and average_of_vehicle."
   ]
  },
  {
   "cell_type": "code",
   "execution_count": null,
   "id": "1d75e79a-6c34-4cbc-aef0-6d9f6120b402",
   "metadata": {},
   "outputs": [],
   "source": [
    "Here's a simple implementation of a Vehicle class with an __init__ method that initializes instance variables for the name of the vehicle, maximum speed, and average speed:\n",
    "\n",
    "\n",
    "class Vehicle:\n",
    "    def __init__(self, name_of_vehicle, max_speed, average_speed):\n",
    "        self.name_of_vehicle = name_of_vehicle\n",
    "        self.max_speed = max_speed\n",
    "        self.average_speed = average_speed\n",
    "\n",
    "# Example usage:\n",
    "car = Vehicle(\"Toyota Camry\", 180, 60)\n",
    "print(\"Name of Vehicle:\", car.name_of_vehicle)\n",
    "print(\"Max Speed:\", car.max_speed)\n",
    "print(\"Average Speed:\", car.average_speed)\n",
    "In this implementation:\n",
    "\n",
    "We define a Vehicle class.\n",
    "The __init__ method takes parameters name_of_vehicle, max_speed, and average_speed, and initializes instance variables with the values provided.\n",
    "We create an instance of the Vehicle class named car with specific values for each attribute.\n",
    "We then print out the attributes of the car instance to verify that they are set correctly."
   ]
  },
  {
   "cell_type": "markdown",
   "id": "ab549a98-cc0d-4ead-9862-1362a3e7f9bc",
   "metadata": {},
   "source": [
    "## Q4. What are getter and setter in python? Create a class and create a getter and a setter method in this\n",
    "class."
   ]
  },
  {
   "cell_type": "code",
   "execution_count": null,
   "id": "200264a7-05da-4034-a559-20aa29b9c6d3",
   "metadata": {},
   "outputs": [],
   "source": [
    "In Python, getters and setters are methods used to access and modify the attributes of a class, respectively. They provide a way to encapsulate the access and modification of class attributes, allowing for better control over the class's behavior.\n",
    "\n",
    "Getter Method: A getter method is used to retrieve the value of a private attribute.\n",
    "Setter Method: A setter method is used to modify the value of a private attribute.\n",
    "Here's an example of a class with a getter and a setter method:\n",
    "\n",
    "class Student:\n",
    "    def __init__(self, name, age):\n",
    "        self._name = name  # Private attribute\n",
    "        self._age = age    # Private attribute\n",
    "\n",
    "    # Getter method for name attribute\n",
    "    def get_name(self):\n",
    "        return self._name\n",
    "\n",
    "    # Setter method for name attribute\n",
    "    def set_name(self, name):\n",
    "        self._name = name\n",
    "\n",
    "    # Getter method for age attribute\n",
    "    def get_age(self):\n",
    "        return self._age\n",
    "\n",
    "    # Setter method for age attribute\n",
    "    def set_age(self, age):\n",
    "        if age > 0:\n",
    "            self._age = age\n",
    "        else:\n",
    "            print(\"Age must be a positive number.\")\n",
    "\n",
    "# Create an instance of the Student class\n",
    "student1 = Student(\"John\", 20)\n",
    "\n",
    "# Get name and age using getter methods\n",
    "print(\"Name:\", student1.get_name())\n",
    "print(\"Age:\", student1.get_age())\n",
    "\n",
    "# Set name and age using setter methods\n",
    "student1.set_name(\"Alice\")\n",
    "student1.set_age(25)\n",
    "\n",
    "# Get updated name and age using getter methods\n",
    "print(\"Updated Name:\", student1.get_name())\n",
    "print(\"Updated Age:\", student1.get_age())"
   ]
  },
  {
   "cell_type": "markdown",
   "id": "05e84d35-c7a6-4561-8e89-99f0f5875eb2",
   "metadata": {},
   "source": [
    "## Q5.What is method overriding in python? Write a python code to demonstrate method overriding."
   ]
  },
  {
   "cell_type": "markdown",
   "id": "7fc57463-2718-4b1c-9d52-ebce4f64a9b1",
   "metadata": {},
   "source": [
    "## Q2. Create a child class car from the vehicle class created in Que 1, which will inherit the vehicle class.\n",
    "Create a method named seating_capacity which takes capacity as an argument and returns the name of\n",
    "the vehicle and its seating capacity."
   ]
  },
  {
   "cell_type": "code",
   "execution_count": null,
   "id": "827d1def-9994-4058-a3a5-2a66bb88ab27",
   "metadata": {},
   "outputs": [],
   "source": [
    "\n",
    "Here's the implementation of the Car class, which is a child class of the Vehicle class. The Car class inherits the attributes and methods of the Vehicle class and adds a new method seating_capacity as requested:\n",
    "\n",
    "\n",
    "class Car(Vehicle):\n",
    "    def __init__(self, name_of_vehicle, max_speed, average_speed):\n",
    "        super().__init__(name_of_vehicle, max_speed, average_speed)\n",
    "\n",
    "    def seating_capacity(self, capacity):\n",
    "        return f\"{self.name_of_vehicle} has a seating capacity of {capacity} passengers.\"\n",
    "\n",
    "# Example usage:\n",
    "car = Car(\"Toyota Camry\", 180, 60)\n",
    "print(\"Name of Vehicle:\", car.name_of_vehicle)\n",
    "print(\"Max Speed:\", car.max_speed)\n",
    "print(\"Average Speed:\", car.average_speed)\n",
    "\n",
    "print(car.seating_capacity(5))\n",
    "In this implementation:\n",
    "\n",
    "We define a Car class that inherits from the Vehicle class.\n",
    "The __init__ method of the Car class initializes the attributes of the Vehicle class using the super() function.\n",
    "We define a new method seating_capacity in the Car class, which takes the seating capacity as an argument and returns a formatted string containing the name of the vehicle and its seating capacity.\n",
    "We create an instance of the Car class named car with specific values for each attribute.\n",
    "We then print out the attributes of the car instance using inherited attributes from the Vehicle class.\n",
    "Finally, we call the seating_capacity method to get the seating capacity of the car and print the result."
   ]
  },
  {
   "cell_type": "markdown",
   "id": "62363180-a9e0-4262-9a8c-201c3e5693f8",
   "metadata": {},
   "source": [
    "## Q3. What is multiple inheritance? Write a python code to demonstrate multiple inheritance."
   ]
  },
  {
   "cell_type": "code",
   "execution_count": null,
   "id": "792704fe-3968-42c3-9e20-6a101b414208",
   "metadata": {},
   "outputs": [],
   "source": [
    "Multiple inheritance is a feature in object-oriented programming where a class can inherit attributes and methods from more than one parent class. This allows a subclass to inherit from multiple superclasses.\n",
    "\n",
    "Here's an example Python code demonstrating multiple inheritance:\n",
    "\n",
    "\n",
    "class A:\n",
    "    def method_A(self):\n",
    "        print(\"Method A from class A\")\n",
    "\n",
    "class B:\n",
    "    def method_B(self):\n",
    "        print(\"Method B from class B\")\n",
    "\n",
    "class C(A, B):\n",
    "    def method_C(self):\n",
    "        print(\"Method C from class C\")\n",
    "\n",
    "# Create an instance of class C\n",
    "obj = C()\n",
    "\n",
    "# Call methods from class A\n",
    "obj.method_A()\n",
    "\n",
    "# Call methods from class B\n",
    "obj.method_B()\n",
    "\n",
    "# Call method from class C\n",
    "obj.method_C()"
   ]
  }
 ],
 "metadata": {
  "kernelspec": {
   "display_name": "Python 3 (ipykernel)",
   "language": "python",
   "name": "python3"
  },
  "language_info": {
   "codemirror_mode": {
    "name": "ipython",
    "version": 3
   },
   "file_extension": ".py",
   "mimetype": "text/x-python",
   "name": "python",
   "nbconvert_exporter": "python",
   "pygments_lexer": "ipython3",
   "version": "3.10.8"
  }
 },
 "nbformat": 4,
 "nbformat_minor": 5
}
